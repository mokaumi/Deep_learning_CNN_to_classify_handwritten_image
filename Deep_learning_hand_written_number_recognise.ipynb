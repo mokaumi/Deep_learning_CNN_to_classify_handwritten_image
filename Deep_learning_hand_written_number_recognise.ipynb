{
  "nbformat": 4,
  "nbformat_minor": 0,
  "metadata": {
    "colab": {
      "provenance": [],
      "authorship_tag": "ABX9TyNiSGgeYCygAyqtAbFjlEBJ",
      "include_colab_link": true
    },
    "kernelspec": {
      "name": "python3",
      "display_name": "Python 3"
    },
    "language_info": {
      "name": "python"
    }
  },
  "cells": [
    {
      "cell_type": "markdown",
      "metadata": {
        "id": "view-in-github",
        "colab_type": "text"
      },
      "source": [
        "<a href=\"https://colab.research.google.com/github/mokaumi/Deep_learning_CNN_to_classify_handwritten_image/blob/main/Deep_learning_hand_written_number_recognise.ipynb\" target=\"_parent\"><img src=\"https://colab.research.google.com/assets/colab-badge.svg\" alt=\"Open In Colab\"/></a>"
      ]
    },
    {
      "cell_type": "code",
      "execution_count": null,
      "metadata": {
        "id": "WqT20KnFt_BC"
      },
      "outputs": [],
      "source": [
        "from tensorflow.keras.datasets import mnist\n",
        "import matplotlib.pyplot as plt\n",
        "import json"
      ]
    },
    {
      "cell_type": "code",
      "source": [
        "# Load the hand written Dataset\n",
        "(X_train, Y_train), (X_test,Y_test) = mnist.load_data()\n"
      ],
      "metadata": {
        "id": "sTsqM3NMuQBY"
      },
      "execution_count": 14,
      "outputs": []
    },
    {
      "cell_type": "code",
      "source": [
        "# Pick a sample to plot\n",
        "sample = 1000"
      ],
      "metadata": {
        "id": "RMQDGjcsuY7n"
      },
      "execution_count": 15,
      "outputs": []
    },
    {
      "cell_type": "code",
      "source": [
        "# Reshape image into a single row\n",
        "image = X_train[sample]\n",
        "image_array = image.reshape((1,784))"
      ],
      "metadata": {
        "id": "lNGwJVdruj5c"
      },
      "execution_count": 16,
      "outputs": []
    },
    {
      "cell_type": "code",
      "source": [
        "# Normalize the dataset\n",
        "image_array_decimal = image_array/255"
      ],
      "metadata": {
        "id": "8y2o5cgBunOI"
      },
      "execution_count": 18,
      "outputs": []
    },
    {
      "cell_type": "code",
      "source": [
        "# Convert to JSON\n",
        "lists = image_array_decimal.tolist()\n",
        "json_str = json.dumps(lists)\n",
        "print(json_str)"
      ],
      "metadata": {
        "colab": {
          "base_uri": "https://localhost:8080/"
        },
        "id": "kXNEwqC9uw5S",
        "outputId": "c246a221-b70c-4ae4-9506-c3197ad3f212"
      },
      "execution_count": 19,
      "outputs": [
        {
          "output_type": "stream",
          "name": "stdout",
          "text": [
            "[[0.0, 0.0, 0.0, 0.0, 0.0, 0.0, 0.0, 0.0, 0.0, 0.0, 0.0, 0.0, 0.0, 0.0, 0.0, 0.0, 0.0, 0.0, 0.0, 0.0, 0.0, 0.0, 0.0, 0.0, 0.0, 0.0, 0.0, 0.0, 0.0, 0.0, 0.0, 0.0, 0.0, 0.0, 0.0, 0.0, 0.0, 0.0, 0.0, 0.0, 0.0, 0.0, 0.0, 0.0, 0.0, 0.0, 0.0, 0.0, 0.0, 0.0, 0.0, 0.0, 0.0, 0.0, 0.0, 0.0, 0.0, 0.0, 0.0, 0.0, 0.0, 0.0, 0.0, 0.0, 0.0, 0.0, 0.0, 0.0, 0.0, 0.0, 0.0, 0.0, 0.0, 0.0, 0.0, 0.0, 0.0, 0.0, 0.0, 0.0, 0.0, 0.0, 0.0, 0.0, 0.0, 0.0, 0.0, 0.0, 0.0, 0.0, 0.0, 0.0, 0.0, 0.0, 0.0, 0.0, 0.0, 0.0, 0.0, 0.0, 0.0, 0.0, 0.0, 0.0, 0.0, 0.0, 0.0, 0.0, 0.0, 0.0, 0.0, 0.0, 0.0, 0.0, 0.0, 0.0, 0.0, 0.0, 0.0, 0.0, 0.0, 0.0, 0.0, 0.0, 0.0, 0.0, 0.0, 0.0, 0.0, 0.0, 0.0, 0.0, 0.0, 0.0, 0.0, 0.0, 0.0, 0.0, 0.0, 0.0, 0.0, 0.0, 0.0, 0.0, 0.0, 0.0, 0.0, 0.0, 0.0, 0.0, 0.0, 0.0, 0.0, 0.0, 0.1411764705882353, 0.5725490196078431, 0.996078431372549, 1.0, 0.984313725490196, 0.37254901960784315, 0.023529411764705882, 0.0, 0.0, 0.0, 0.0, 0.0, 0.0, 0.0, 0.0, 0.0, 0.0, 0.0, 0.0, 0.0, 0.0, 0.0, 0.0, 0.0, 0.0, 0.0, 0.011764705882352941, 0.3803921568627451, 0.9176470588235294, 0.996078431372549, 0.996078431372549, 0.9098039215686274, 0.996078431372549, 0.996078431372549, 0.13725490196078433, 0.0, 0.0, 0.0, 0.0, 0.0, 0.0, 0.0, 0.0, 0.0, 0.0, 0.0, 0.0, 0.0, 0.0, 0.0, 0.0, 0.0, 0.0, 0.34901960784313724, 0.5490196078431373, 0.996078431372549, 0.996078431372549, 0.6823529411764706, 0.2627450980392157, 0.12941176470588237, 0.7843137254901961, 0.996078431372549, 0.7450980392156863, 0.0, 0.0, 0.0, 0.0, 0.0, 0.0, 0.0, 0.0, 0.0, 0.0, 0.0, 0.0, 0.0, 0.0, 0.0, 0.0, 0.0, 0.4235294117647059, 0.9921568627450981, 0.996078431372549, 0.9215686274509803, 0.2, 0.00392156862745098, 0.0, 0.0, 0.047058823529411764, 0.996078431372549, 0.9921568627450981, 0.2196078431372549, 0.0, 0.0, 0.0, 0.0, 0.0, 0.0, 0.0, 0.0, 0.0, 0.0, 0.0, 0.0, 0.0, 0.0, 0.0, 0.047058823529411764, 0.8470588235294118, 0.996078431372549, 0.9568627450980393, 0.21568627450980393, 0.0, 0.0, 0.0, 0.0, 0.023529411764705882, 0.8352941176470589, 0.996078431372549, 0.2235294117647059, 0.0, 0.0, 0.0, 0.0, 0.0, 0.0, 0.0, 0.0, 0.0, 0.0, 0.0, 0.0, 0.0, 0.0, 0.0, 0.09803921568627451, 0.996078431372549, 0.996078431372549, 0.5176470588235295, 0.0, 0.0, 0.0, 0.0, 0.0, 0.0, 0.6588235294117647, 0.996078431372549, 0.2235294117647059, 0.0, 0.0, 0.0, 0.0, 0.0, 0.0, 0.0, 0.0, 0.0, 0.0, 0.0, 0.0, 0.0, 0.0, 0.0, 0.17647058823529413, 0.996078431372549, 0.9529411764705882, 0.13333333333333333, 0.0, 0.0, 0.0, 0.0, 0.0, 0.0, 0.6588235294117647, 0.996078431372549, 0.2235294117647059, 0.0, 0.0, 0.0, 0.0, 0.0, 0.0, 0.0, 0.0, 0.0, 0.0, 0.0, 0.0, 0.0, 0.0, 0.0, 0.5019607843137255, 0.996078431372549, 0.615686274509804, 0.0, 0.0, 0.0, 0.0, 0.0, 0.0, 0.0, 0.6588235294117647, 0.996078431372549, 0.2235294117647059, 0.0, 0.0, 0.0, 0.0, 0.0, 0.0, 0.0, 0.0, 0.0, 0.0, 0.0, 0.0, 0.0, 0.0, 0.07450980392156863, 0.8941176470588236, 0.996078431372549, 0.4117647058823529, 0.0, 0.0, 0.0, 0.0, 0.0, 0.0, 0.027450980392156862, 0.8941176470588236, 0.996078431372549, 0.2235294117647059, 0.0, 0.0, 0.0, 0.0, 0.0, 0.0, 0.0, 0.0, 0.0, 0.0, 0.0, 0.0, 0.0, 0.0, 0.22745098039215686, 0.996078431372549, 0.996078431372549, 0.3411764705882353, 0.0, 0.0, 0.0, 0.0, 0.0, 0.0, 0.0392156862745098, 0.996078431372549, 0.9647058823529412, 0.1843137254901961, 0.0, 0.0, 0.0, 0.0, 0.0, 0.0, 0.0, 0.0, 0.0, 0.0, 0.0, 0.0, 0.0, 0.0, 0.22745098039215686, 0.996078431372549, 0.996078431372549, 0.03529411764705882, 0.0, 0.0, 0.0, 0.0, 0.0, 0.0, 0.0392156862745098, 0.996078431372549, 0.8235294117647058, 0.0, 0.0, 0.0, 0.0, 0.0, 0.0, 0.0, 0.0, 0.0, 0.0, 0.0, 0.0, 0.0, 0.0, 0.0, 0.22745098039215686, 0.996078431372549, 0.996078431372549, 0.03529411764705882, 0.0, 0.0, 0.0, 0.0, 0.0, 0.0, 0.4117647058823529, 0.996078431372549, 0.3568627450980392, 0.0, 0.0, 0.0, 0.0, 0.0, 0.0, 0.0, 0.0, 0.0, 0.0, 0.0, 0.0, 0.0, 0.0, 0.0, 0.0196078431372549, 0.8588235294117647, 0.996078431372549, 0.03529411764705882, 0.0, 0.0, 0.0, 0.0, 0.0, 0.09411764705882353, 0.9019607843137255, 0.996078431372549, 0.09411764705882353, 0.0, 0.0, 0.0, 0.0, 0.0, 0.0, 0.0, 0.0, 0.0, 0.0, 0.0, 0.0, 0.0, 0.0, 0.0, 0.0, 0.8470588235294118, 0.996078431372549, 0.03529411764705882, 0.0, 0.0, 0.0, 0.0, 0.0, 0.32941176470588235, 0.996078431372549, 0.984313725490196, 0.09019607843137255, 0.0, 0.0, 0.0, 0.0, 0.0, 0.0, 0.0, 0.0, 0.0, 0.0, 0.0, 0.0, 0.0, 0.0, 0.0, 0.0, 0.8470588235294118, 0.996078431372549, 0.1411764705882353, 0.0, 0.0, 0.0, 0.0, 0.08627450980392157, 0.8156862745098039, 0.984313725490196, 0.3686274509803922, 0.0, 0.0, 0.0, 0.0, 0.0, 0.0, 0.0, 0.0, 0.0, 0.0, 0.0, 0.0, 0.0, 0.0, 0.0, 0.0, 0.0, 0.5058823529411764, 0.996078431372549, 0.47058823529411764, 0.0, 0.0, 0.0, 0.011764705882352941, 0.5490196078431373, 0.996078431372549, 0.8980392156862745, 0.0, 0.0, 0.0, 0.0, 0.0, 0.0, 0.0, 0.0, 0.0, 0.0, 0.0, 0.0, 0.0, 0.0, 0.0, 0.0, 0.0, 0.0, 0.3254901960784314, 0.996078431372549, 0.8705882352941177, 0.06666666666666667, 0.0, 0.0, 0.3568627450980392, 0.996078431372549, 0.9254901960784314, 0.20784313725490197, 0.0, 0.0, 0.0, 0.0, 0.0, 0.0, 0.0, 0.0, 0.0, 0.0, 0.0, 0.0, 0.0, 0.0, 0.0, 0.0, 0.0, 0.0, 0.07058823529411765, 0.9215686274509803, 0.996078431372549, 0.5254901960784314, 0.08235294117647059, 0.4666666666666667, 0.9294117647058824, 0.996078431372549, 0.48627450980392156, 0.0, 0.0, 0.0, 0.0, 0.0, 0.0, 0.0, 0.0, 0.0, 0.0, 0.0, 0.0, 0.0, 0.0, 0.0, 0.0, 0.0, 0.0, 0.0, 0.0, 0.20784313725490197, 0.9764705882352941, 0.996078431372549, 0.9176470588235294, 0.9882352941176471, 0.996078431372549, 0.6745098039215687, 0.011764705882352941, 0.0, 0.0, 0.0, 0.0, 0.0, 0.0, 0.0, 0.0, 0.0, 0.0, 0.0, 0.0, 0.0, 0.0, 0.0, 0.0, 0.0, 0.0, 0.0, 0.0, 0.0, 0.4549019607843137, 0.9294117647058824, 0.996078431372549, 0.996078431372549, 0.5215686274509804, 0.0784313725490196, 0.0, 0.0, 0.0, 0.0, 0.0, 0.0, 0.0, 0.0, 0.0, 0.0, 0.0, 0.0, 0.0, 0.0, 0.0, 0.0, 0.0, 0.0, 0.0, 0.0, 0.0, 0.0, 0.0, 0.0, 0.0, 0.0, 0.0, 0.0, 0.0, 0.0, 0.0, 0.0, 0.0, 0.0, 0.0, 0.0, 0.0, 0.0, 0.0, 0.0, 0.0, 0.0, 0.0, 0.0, 0.0, 0.0, 0.0, 0.0, 0.0, 0.0, 0.0, 0.0, 0.0, 0.0, 0.0, 0.0, 0.0, 0.0, 0.0, 0.0, 0.0, 0.0, 0.0, 0.0, 0.0, 0.0, 0.0, 0.0, 0.0, 0.0, 0.0, 0.0, 0.0, 0.0, 0.0, 0.0, 0.0, 0.0, 0.0, 0.0, 0.0, 0.0, 0.0, 0.0, 0.0, 0.0, 0.0, 0.0, 0.0, 0.0, 0.0, 0.0, 0.0, 0.0, 0.0]]\n"
          ]
        }
      ]
    },
    {
      "cell_type": "code",
      "source": [
        "# Display the image\n",
        "plt.imshow(image, cmap='gray')\n",
        "plt.title(f\"Label: {Y_train[sample]}\")\n",
        "plt.axis('off')\n",
        "plt.show()"
      ],
      "metadata": {
        "colab": {
          "base_uri": "https://localhost:8080/",
          "height": 428
        },
        "id": "DSM2qreOvBOL",
        "outputId": "831167e2-8583-48a2-cef1-833315cf94c3"
      },
      "execution_count": 20,
      "outputs": [
        {
          "output_type": "display_data",
          "data": {
            "text/plain": [
              "<Figure size 640x480 with 1 Axes>"
            ],
            "image/png": "[encoded data removed]"
          },
          "metadata": {}
        }
      ]
    },
    {
      "cell_type": "code",
      "source": [],
      "metadata": {
        "id": "J3eq-ZBvujiJ"
      },
      "execution_count": null,
      "outputs": []
    }
  ]
}